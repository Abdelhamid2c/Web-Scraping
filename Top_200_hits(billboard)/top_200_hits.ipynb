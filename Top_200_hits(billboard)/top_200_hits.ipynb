{
 "cells": [
  {
   "cell_type": "code",
   "execution_count": 3,
   "metadata": {},
   "outputs": [],
   "source": [
    "url = \"https://www.billboard.com/charts/billboard-200/\""
   ]
  },
  {
   "cell_type": "code",
   "execution_count": 4,
   "metadata": {},
   "outputs": [],
   "source": [
    "import requests\n",
    "from bs4 import BeautifulSoup"
   ]
  },
  {
   "cell_type": "code",
   "execution_count": 5,
   "metadata": {},
   "outputs": [
    {
     "data": {
      "text/plain": [
       "<Response [200]>"
      ]
     },
     "execution_count": 5,
     "metadata": {},
     "output_type": "execute_result"
    }
   ],
   "source": [
    "res = requests.get(url)\n",
    "res"
   ]
  },
  {
   "cell_type": "code",
   "execution_count": 6,
   "metadata": {},
   "outputs": [],
   "source": [
    "raw_html = res.text"
   ]
  },
  {
   "cell_type": "code",
   "execution_count": 7,
   "metadata": {},
   "outputs": [],
   "source": [
    "soup = BeautifulSoup(raw_html,'html.parser')"
   ]
  },
  {
   "cell_type": "code",
   "execution_count": 8,
   "metadata": {},
   "outputs": [
    {
     "data": {
      "text/plain": [
       "<h3 class=\"c-title a-no-trucate a-font-primary-bold-s u-letter-spacing-0021 lrv-u-font-size-18@tablet lrv-u-font-size-16 u-line-height-125 u-line-height-normal@mobile-max a-truncate-ellipsis u-max-width-330 u-max-width-230@tablet-only\" id=\"title-of-a-story\">\n",
       "\n",
       "\t\n",
       "\t\n",
       "\t\t\n",
       "\t\t\t\t\tSOS\t\t\n",
       "\t\n",
       "</h3>"
      ]
     },
     "execution_count": 8,
     "metadata": {},
     "output_type": "execute_result"
    }
   ],
   "source": [
    "songs = soup.select('li h3')\n",
    "songs[5]"
   ]
  },
  {
   "cell_type": "code",
   "execution_count": 9,
   "metadata": {},
   "outputs": [
    {
     "data": {
      "text/plain": [
       "'\\n\\n\\t\\n\\t\\n\\t\\t\\n\\t\\t\\t\\t\\tZach Bryan\\t\\t\\n\\t\\n'"
      ]
     },
     "execution_count": 9,
     "metadata": {},
     "output_type": "execute_result"
    }
   ],
   "source": [
    "top_200 = [song.text for song in songs]\n",
    "top_200[7]"
   ]
  },
  {
   "cell_type": "code",
   "execution_count": 12,
   "metadata": {},
   "outputs": [
    {
     "data": {
      "text/plain": [
       "['Eternal Sunshine',\n",
       " 'Deeper Well',\n",
       " 'One Thing At A Time',\n",
       " 'Everything I Thought It Was',\n",
       " 'Stick Season']"
      ]
     },
     "execution_count": 12,
     "metadata": {},
     "output_type": "execute_result"
    }
   ],
   "source": [
    "top_200 = [string.replace('\\n','').replace('\\t','') for string in top_200]\n",
    "top_200[:5]"
   ]
  },
  {
   "cell_type": "code",
   "execution_count": 14,
   "metadata": {},
   "outputs": [
    {
     "data": {
      "text/plain": [
       "[<span class=\"c-label a-no-trucate a-font-primary-s lrv-u-font-size-14@mobile-max u-line-height-normal@mobile-max u-letter-spacing-0021 lrv-u-display-block a-truncate-ellipsis-2line u-max-width-330 u-max-width-230@tablet-only\">\n",
       " \t\n",
       " \tJustin Timberlake\n",
       " </span>,\n",
       " <span class=\"c-label a-no-trucate a-font-primary-s lrv-u-font-size-14@mobile-max u-line-height-normal@mobile-max u-letter-spacing-0021 lrv-u-display-block a-truncate-ellipsis-2line u-max-width-330 u-max-width-230@tablet-only\">\n",
       " \t\n",
       " \tNoah Kahan\n",
       " </span>,\n",
       " <span class=\"c-label a-no-trucate a-font-primary-s lrv-u-font-size-14@mobile-max u-line-height-normal@mobile-max u-letter-spacing-0021 lrv-u-display-block a-truncate-ellipsis-2line u-max-width-330 u-max-width-230@tablet-only\">\n",
       " \t\n",
       " \tSZA\n",
       " </span>,\n",
       " <span class=\"c-label a-no-trucate a-font-primary-s lrv-u-font-size-14@mobile-max u-line-height-normal@mobile-max u-letter-spacing-0021 lrv-u-display-block a-truncate-ellipsis-2line u-max-width-330 u-max-width-230@tablet-only\">\n",
       " \t\n",
       " \tTaylor Swift\n",
       " </span>,\n",
       " <span class=\"c-label a-no-trucate a-font-primary-s lrv-u-font-size-14@mobile-max u-line-height-normal@mobile-max u-letter-spacing-0021 lrv-u-display-block a-truncate-ellipsis-2line u-max-width-330 u-max-width-230@tablet-only\">\n",
       " \t\n",
       " \tZach Bryan\n",
       " </span>]"
      ]
     },
     "execution_count": 14,
     "metadata": {},
     "output_type": "execute_result"
    }
   ],
   "source": [
    "#@ title Singers\n",
    "singers = [song.find_next_sibling() for song in songs ]\n",
    "singers[3:8]"
   ]
  },
  {
   "cell_type": "code",
   "execution_count": 15,
   "metadata": {},
   "outputs": [
    {
     "data": {
      "text/plain": [
       "['\\n\\t\\n\\tTaylor Swift\\n', '\\n\\t\\n\\tZach Bryan\\n', '\\n\\t\\n\\tTaylor Swift\\n']"
      ]
     },
     "execution_count": 15,
     "metadata": {},
     "output_type": "execute_result"
    }
   ],
   "source": [
    "singers = [singer.string for singer in singers]\n",
    "singers[6:9]"
   ]
  },
  {
   "cell_type": "code",
   "execution_count": 17,
   "metadata": {},
   "outputs": [
    {
     "data": {
      "text/plain": [
       "['Zach Bryan',\n",
       " 'Taylor Swift',\n",
       " '¥$: Ye & Ty Dolla $ign',\n",
       " 'Morgan Wallen',\n",
       " 'Drake',\n",
       " 'Taylor Swift',\n",
       " 'Travis Scott',\n",
       " 'Zach Bryan',\n",
       " '21 Savage',\n",
       " 'Taylor Swift',\n",
       " 'Olivia Rodrigo',\n",
       " 'Post Malone',\n",
       " 'BossMan Dlow']"
      ]
     },
     "execution_count": 17,
     "metadata": {},
     "output_type": "execute_result"
    }
   ],
   "source": [
    "cleaned_singers = [string.replace('\\n', '').replace('\\t', '') if string else 'None' for string in singers]\n",
    "cleaned_singers[7:20]"
   ]
  },
  {
   "cell_type": "code",
   "execution_count": 18,
   "metadata": {},
   "outputs": [],
   "source": [
    "cleaned_singers = cleaned_singers[:200]\n",
    "top_200 = top_200[:200]"
   ]
  },
  {
   "cell_type": "code",
   "execution_count": 19,
   "metadata": {},
   "outputs": [
    {
     "name": "stdout",
     "output_type": "stream",
     "text": [
      "he number of songs : 200\n",
      "he number of singers : 200\n"
     ]
    }
   ],
   "source": [
    "print(f\"he number of songs : {len(top_200)}\")\n",
    "print(f\"he number of singers : {len(cleaned_singers)}\")"
   ]
  },
  {
   "cell_type": "code",
   "execution_count": 20,
   "metadata": {},
   "outputs": [
    {
     "data": {
      "text/plain": [
       "('Wasteland, Baby!', 'Hozier')"
      ]
     },
     "execution_count": 20,
     "metadata": {},
     "output_type": "execute_result"
    }
   ],
   "source": [
    "top_200[199] , cleaned_singers[199]"
   ]
  },
  {
   "cell_type": "code",
   "execution_count": 21,
   "metadata": {},
   "outputs": [],
   "source": [
    "import pandas as pd\n",
    "\n",
    "dict_data = {\n",
    "    'Singer' : cleaned_singers ,\n",
    "    'Song'   : top_200\n",
    "}\n",
    "\n",
    "df = pd.DataFrame(dict_data)"
   ]
  },
  {
   "cell_type": "code",
   "execution_count": 22,
   "metadata": {},
   "outputs": [
    {
     "data": {
      "text/html": [
       "<div>\n",
       "<style scoped>\n",
       "    .dataframe tbody tr th:only-of-type {\n",
       "        vertical-align: middle;\n",
       "    }\n",
       "\n",
       "    .dataframe tbody tr th {\n",
       "        vertical-align: top;\n",
       "    }\n",
       "\n",
       "    .dataframe thead th {\n",
       "        text-align: right;\n",
       "    }\n",
       "</style>\n",
       "<table border=\"1\" class=\"dataframe\">\n",
       "  <thead>\n",
       "    <tr style=\"text-align: right;\">\n",
       "      <th></th>\n",
       "      <th>Singer</th>\n",
       "      <th>Song</th>\n",
       "    </tr>\n",
       "  </thead>\n",
       "  <tbody>\n",
       "    <tr>\n",
       "      <th>0</th>\n",
       "      <td>Ariana Grande</td>\n",
       "      <td>Eternal Sunshine</td>\n",
       "    </tr>\n",
       "    <tr>\n",
       "      <th>1</th>\n",
       "      <td>Kacey Musgraves</td>\n",
       "      <td>Deeper Well</td>\n",
       "    </tr>\n",
       "    <tr>\n",
       "      <th>2</th>\n",
       "      <td>Morgan Wallen</td>\n",
       "      <td>One Thing At A Time</td>\n",
       "    </tr>\n",
       "    <tr>\n",
       "      <th>3</th>\n",
       "      <td>Justin Timberlake</td>\n",
       "      <td>Everything I Thought It Was</td>\n",
       "    </tr>\n",
       "    <tr>\n",
       "      <th>4</th>\n",
       "      <td>Noah Kahan</td>\n",
       "      <td>Stick Season</td>\n",
       "    </tr>\n",
       "    <tr>\n",
       "      <th>...</th>\n",
       "      <td>...</td>\n",
       "      <td>...</td>\n",
       "    </tr>\n",
       "    <tr>\n",
       "      <th>195</th>\n",
       "      <td>The Cranberries</td>\n",
       "      <td>Stars: The Best Of 1992-2002</td>\n",
       "    </tr>\n",
       "    <tr>\n",
       "      <th>196</th>\n",
       "      <td>Rod Wave</td>\n",
       "      <td>Pray 4 Love</td>\n",
       "    </tr>\n",
       "    <tr>\n",
       "      <th>197</th>\n",
       "      <td>Zach Bryan</td>\n",
       "      <td>Boys Of Faith (EP)</td>\n",
       "    </tr>\n",
       "    <tr>\n",
       "      <th>198</th>\n",
       "      <td>The Weeknd</td>\n",
       "      <td>House Of Balloons</td>\n",
       "    </tr>\n",
       "    <tr>\n",
       "      <th>199</th>\n",
       "      <td>Hozier</td>\n",
       "      <td>Wasteland, Baby!</td>\n",
       "    </tr>\n",
       "  </tbody>\n",
       "</table>\n",
       "<p>200 rows × 2 columns</p>\n",
       "</div>"
      ],
      "text/plain": [
       "                Singer                          Song\n",
       "0        Ariana Grande              Eternal Sunshine\n",
       "1      Kacey Musgraves                   Deeper Well\n",
       "2        Morgan Wallen           One Thing At A Time\n",
       "3    Justin Timberlake   Everything I Thought It Was\n",
       "4           Noah Kahan                  Stick Season\n",
       "..                 ...                           ...\n",
       "195    The Cranberries  Stars: The Best Of 1992-2002\n",
       "196           Rod Wave                   Pray 4 Love\n",
       "197         Zach Bryan            Boys Of Faith (EP)\n",
       "198         The Weeknd             House Of Balloons\n",
       "199             Hozier              Wasteland, Baby!\n",
       "\n",
       "[200 rows x 2 columns]"
      ]
     },
     "execution_count": 22,
     "metadata": {},
     "output_type": "execute_result"
    }
   ],
   "source": [
    "df"
   ]
  },
  {
   "cell_type": "code",
   "execution_count": 23,
   "metadata": {},
   "outputs": [
    {
     "data": {
      "text/plain": [
       "Singer\n",
       "Taylor Swift              10\n",
       "Drake                      7\n",
       "Zach Bryan                 5\n",
       "The Weeknd                 4\n",
       "Kanye West                 4\n",
       "                          ..\n",
       "Lainey Wilson              1\n",
       "Original Broadway Cast     1\n",
       "Journey                    1\n",
       "Bryson Tiller              1\n",
       "The Cranberries            1\n",
       "Name: count, Length: 135, dtype: int64"
      ]
     },
     "execution_count": 23,
     "metadata": {},
     "output_type": "execute_result"
    }
   ],
   "source": [
    "df.Singer.value_counts()"
   ]
  },
  {
   "cell_type": "code",
   "execution_count": 24,
   "metadata": {},
   "outputs": [
    {
     "data": {
      "image/png": "[encoded data removed]",
      "text/plain": [
       "<Figure size 1000x600 with 1 Axes>"
      ]
     },
     "metadata": {},
     "output_type": "display_data"
    }
   ],
   "source": [
    "import matplotlib.pyplot as plt\n",
    "\n",
    "# Supposons que df contient votre DataFrame\n",
    "\n",
    "# Compter les occurrences de chaque chanteur et sélectionner les 10 premiers\n",
    "top_10_singers = df['Singer'].value_counts().head(10)\n",
    "\n",
    "# Tracer un graphique à barres\n",
    "plt.figure(figsize=(10, 6))\n",
    "top_10_singers.plot(kind='bar', color='skyblue')\n",
    "plt.xlabel('Chanteur')\n",
    "plt.ylabel('Nombre de Chansons')\n",
    "plt.title('Top 10 des Chanteurs avec le Nombre de Chansons')\n",
    "plt.xticks(rotation=45)\n",
    "plt.tight_layout()\n",
    "plt.show()"
   ]
  },
  {
   "cell_type": "code",
   "execution_count": 26,
   "metadata": {},
   "outputs": [
    {
     "name": "stdout",
     "output_type": "stream",
     "text": [
      "DataFrame enregistré dans 'Top_200_hits_2024-03-29.xlsx'\n"
     ]
    }
   ],
   "source": [
    "import datetime\n",
    "\n",
    "current_date = datetime.datetime.now().strftime('%Y-%m-%d')\n",
    "\n",
    "# Nom du fichier avec la date\n",
    "file_name = f'Top_200_hits_{current_date}.xlsx'\n",
    "\n",
    "# Enregistrer le DataFrame dans un fichier CSV avec la date dans le nom\n",
    "df.to_excel(file_name, index=False)\n",
    "\n",
    "print(f\"DataFrame enregistré dans '{file_name}'\")"
   ]
  },
  {
   "cell_type": "code",
   "execution_count": null,
   "metadata": {},
   "outputs": [],
   "source": []
  }
 ],
 "metadata": {
  "kernelspec": {
   "display_name": "Python 3 (ipykernel)",
   "language": "python",
   "name": "python3"
  },
  "language_info": {
   "codemirror_mode": {
    "name": "ipython",
    "version": 3
   },
   "file_extension": ".py",
   "mimetype": "text/x-python",
   "name": "python",
   "nbconvert_exporter": "python",
   "pygments_lexer": "ipython3",
   "version": "3.11.7"
  }
 },
 "nbformat": 4,
 "nbformat_minor": 4
}
